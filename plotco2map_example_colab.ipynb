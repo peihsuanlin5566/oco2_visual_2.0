{
 "cells": [
  {
   "cell_type": "code",
   "execution_count": null,
   "metadata": {},
   "outputs": [],
   "source": [
    "from google.colab import drive\n",
    "drive.mount('/content/drive')"
   ]
  },
  {
   "cell_type": "code",
   "execution_count": null,
   "metadata": {},
   "outputs": [],
   "source": [
    "# load the co2map object\n",
    "from src.utils import Map\n",
    "# the first argument is the path where the data is placed \n",
    "# the following 2 arguments specify the duration for visualization\n",
    "co2map = Map( '2015-01-01', '2016-12-31')"
   ]
  }
 ],
 "metadata": {
  "kernelspec": {
   "display_name": "Python 3.10.8 ('oco2py310')",
   "language": "python",
   "name": "python3"
  },
  "language_info": {
   "name": "python",
   "version": "3.10.8"
  },
  "orig_nbformat": 4,
  "vscode": {
   "interpreter": {
    "hash": "d1b260c8848b9a079c2af24aa74dd2ce634f49aec1f8617c88631ca969822847"
   }
  }
 },
 "nbformat": 4,
 "nbformat_minor": 2
}
